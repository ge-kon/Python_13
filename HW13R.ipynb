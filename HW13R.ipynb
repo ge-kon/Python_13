{
  "cells": [
    {
      "cell_type": "markdown",
      "metadata": {
        "deletable": false,
        "editable": false,
        "id": "tynzUqwWj_RC",
        "pycharm": {
          "name": "#%% md\n"
        }
      },
      "source": [
        "# *Красный трек*\n",
        "## Задачи по теме Plotly\n",
        "\n",
        "Решая задачи, ты научишься:\n",
        "\n",
        "- строить гистограммы и статистические графики с помощью Plotly;\n",
        "- использовать Plotly Express для создания интерактивных визуализаций;\n",
        "- настраивать внешний вид графиков: цвета, размеры, шрифты;\n",
        "- интерпретировать визуализации, чтобы получить полезную информацию из данных;\n",
        "- создавать анимации и интерактивные элементы для улучшения пользовательского опыта.\n",
        "\n",
        "Время решения: ~60 минут."
      ]
    },
    {
      "cell_type": "markdown",
      "metadata": {
        "collapsed": false,
        "deletable": false,
        "editable": false,
        "pycharm": {
          "name": "#%% md\n"
        }
      },
      "source": [
        "## Оценивание домашнего задания\n",
        "\n",
        "**Система оценивания —** бинарная:\n",
        "\n",
        "  - если все задачи решены корректно, без ошибок и полностью соответствуют стандартам кода на курсе, то задание выполнено и оценка — **10 баллов**;\n",
        "  - если решения содержат ошибки или не соответствуют требованиям, то задание не выполнено и оценка — **0 баллов**.\n",
        "\n",
        "\n",
        "**Проверка задания**\n",
        "\n",
        "- Перед тем, как сдать задание, убедись, что твой код работает без ошибок и соответствует стандартам. Для этого используй автоматическую проверку.\n",
        "- Загрузи задание в LMS. Ассистент проверит, соответствуют ли твои решения требованиям и целям домашнего задания, и выставит оценку.\n",
        "\n",
        "\n",
        "**Доработка**\n",
        "\n",
        "  - Если твое задание получило 0 баллов, его вернут на доработку через LMS с комментариями о том, что нужно исправить."
      ]
    },
    {
      "cell_type": "markdown",
      "metadata": {
        "deletable": false,
        "editable": false,
        "id": "fSf0OLY_ufg3",
        "pycharm": {
          "name": "#%% md\n"
        }
      },
      "source": [
        "## Подготовка данных из онлайн-источников\n",
        "\n",
        "Выполни ячейку ниже, чтобы загрузить данные для твоих задач.\n",
        "\n",
        "Краткое описание загружаемых данных:\n",
        "\n",
        "1.\t**Propagated Solar Wind (1-Hour):** прогноз солнечного ветра с часовыми интервалами, включающий скорость и плотность частиц.\n",
        "2.\t**Boulder K-Index (1-Minute):** ежеминутные данные K-индекса, измеряющие геомагнитную активность.\n",
        "3.\t**Earthquake Data (USGS):** данные о землетрясениях (место, сила, время) за январь 2024 года. Они используются для мониторинга сейсмической активности, оценки риска и реагирования на чрезвычайные ситуации.\n",
        "4.\t**Ovation Aurora:** прогнозы северного и южного сияний, основанные на космической погоде.\n",
        "5.\t**Solar Wind Plasma (7-Day):** параметры солнечного ветра (скорость, плотность) за последние 7 дней.\n",
        "6.\t**Solar Cycle 25 F10.7:** прогнозы солнечной активности на основе радиоизлучения для 25-го солнечного цикла. Эти данные могут использоваться для изучения атмосферных явлений и прогнозирования появления северного и южного сияний.\n",
        "\n",
        "Все эти данные используются для научных исследований и мониторинга природных явлений. Они играют важную роль в области космической погоды, сейсмологии и климатологии. Такие данные могут предупредить о потенциальных угрозах, связанных с солнечной активностью и геофизическими событиями.\n"
      ]
    },
    {
      "cell_type": "code",
      "execution_count": null,
      "metadata": {
        "deletable": false,
        "id": "nDvo9laTkMy0",
        "pycharm": {
          "name": "#%%\n"
        }
      },
      "outputs": [],
      "source": [
        "import plotly.express as px\n",
        "import pandas as pd\n",
        "import plotly.graph_objects as go\n",
        "import plotly.subplots as sp\n",
        "import requests\n",
        "from plotly.subplots import make_subplots"
      ]
    },
    {
      "cell_type": "code",
      "execution_count": null,
      "metadata": {
        "colab": {
          "base_uri": "https://localhost:8080/"
        },
        "deletable": false,
        "id": "iuXIann9qB1u",
        "outputId": "3f14bce7-ea2d-4009-b31a-90e12cd7c0ef",
        "pycharm": {
          "name": "#%%\n"
        }
      },
      "outputs": [
        {
          "name": "stderr",
          "output_type": "stream",
          "text": [
            "\u003cipython-input-2-7a32dd039cac\u003e:18: FutureWarning: 'T' is deprecated and will be removed in a future version, please use 'min' instead.\n",
            "  k_index_df = k_index_df.resample('40T').median().reset_index()\n"
          ]
        }
      ],
      "source": [
        "# solar wind\n",
        "url = 'https://services.swpc.noaa.gov/products/geospace/propagated-solar-wind-1-hour.json'\n",
        "response = requests.get(url)\n",
        "data = response.json()\n",
        "columns = data[0]\n",
        "solar_wind = pd.DataFrame(data[1:], columns=columns)\n",
        "solar_wind['speed'] = pd.to_numeric(solar_wind['speed'])\n",
        "solar_wind['density'] = pd.to_numeric(solar_wind['density'])\n",
        "solar_wind['temperature'] = pd.to_numeric(solar_wind['temperature'])\n",
        "solar_wind['time_tag'] = pd.to_datetime(solar_wind['time_tag'])\n",
        "# k-index\n",
        "url = 'https://services.swpc.noaa.gov/json/boulder_k_index_1m.json'\n",
        "response = requests.get(url)\n",
        "data = response.json()\n",
        "k_index_df = pd.DataFrame(data)\n",
        "k_index_df['time_tag'] = pd.to_datetime(k_index_df['time_tag'])\n",
        "k_index_df.set_index('time_tag', inplace=True)\n",
        "k_index_df = k_index_df.resample('40T').median().reset_index()\n",
        "# earthquake\n",
        "url = 'https://earthquake.usgs.gov/fdsnws/event/1/query?format=geojson\u0026starttime=2024-01-01\u0026endtime=2024-02-01'\n",
        "response = requests.get(url)\n",
        "data = response.json()\n",
        "earthquake_data = []\n",
        "for feature in data['features']:\n",
        "    properties = feature['properties']\n",
        "    coordinates = feature['geometry']['coordinates']\n",
        "    time = pd.to_datetime(properties['time'], unit='ms')\n",
        "    if properties['mag'] is not None and properties['mag'] \u003e= 0:\n",
        "          earthquake_data.append({\n",
        "              'longitude': coordinates[0],\n",
        "              'latitude': coordinates[1],\n",
        "              'time': time,\n",
        "              'mag': properties['mag']\n",
        "          })\n",
        "earthquake = pd.DataFrame(earthquake_data)\n",
        "min_time = earthquake['time'].min()\n",
        "max_time = earthquake['time'].max()\n",
        "new_times = pd.date_range(start=min_time, end=max_time, periods=100)\n",
        "earthquake['time'] = earthquake['time'].apply(lambda x: min(new_times, key=lambda t: abs(t - x)))\n",
        "# f10\n",
        "url = 'https://services.swpc.noaa.gov/products/solar-cycle-25-f10-7-predicted-range.json'\n",
        "f10 = requests.get(url).json()\n",
        "f10 = pd.DataFrame(f10)\n",
        "f10['time-tag'] = pd.to_datetime(f10['time-tag'])\n",
        "# plasma\n",
        "url = 'https://services.swpc.noaa.gov/products/solar-wind/plasma-7-day.json'\n",
        "data = requests.get(url).json()\n",
        "plasma = pd.DataFrame(data[1:], columns=data[0])\n",
        "plasma['density'] = pd.to_numeric(plasma['density'], errors='coerce')\n",
        "plasma['speed'] = pd.to_numeric(plasma['speed'], errors='coerce')\n",
        "plasma['temperature'] = pd.to_numeric(plasma['temperature'], errors='coerce')\n",
        "plasma = plasma.dropna(subset=['density', 'speed', 'temperature'])\n",
        "# aurora\n",
        "url = 'https://services.swpc.noaa.gov/json/ovation_aurora_latest.json'\n",
        "response = requests.get(url)\n",
        "aurora = response.json()\n",
        "aurora = pd.DataFrame(aurora['coordinates'], columns=['Longitude', 'Latitude', 'Aurora'])"
      ]
    },
    {
      "cell_type": "markdown",
      "metadata": {
        "deletable": false,
        "editable": false,
        "id": "u6I5ME9Q2JnK",
        "pycharm": {
          "name": "#%% md\n"
        }
      },
      "source": [
        "### Задача 1\n",
        "\n",
        "Вспышки на Солнце способны вызывать мощные выбросы плазмы солнечного ветра, которые приводят к геомагнитным бурям. Бури могут нарушить работу спутников, навигационных систем и даже повлиять на работу энергосетей на Земле. Проанализируй показатели солнечного ветра за последние 7 дней.\n",
        "\n",
        "**Входные данные**\n",
        "- `plasma`: датафрейм с данными\n",
        "- `density`: плотность солнечного ветра (в частицах на кубический сантиметр).\n",
        "- `speed`: скорость солнечного ветра (в километрах в секунду).\n",
        "-\t`temperature`: температура солнечного ветра (в кельвинах).\n",
        "\n",
        "**Что нужно сделать**\n",
        "-\tПострой пузырьковую диаграмму с осями:\n",
        "  - Ось $X$: скорость солнечного ветра (`speed`).\n",
        "  -\tОсь $Y$: температура солнечного ветра (`temperature`).\n",
        "- Заголовок: «Bubble Chart of Solar Wind Plasma Data».\n",
        "  - Ось $X$: «Speed ($\\frac{km}{s}$)».\n",
        "  - Ось $Y$: «Temperature ($K$)».\n",
        "-\tРазмер пузырьков должен быть пропорционален плотности солнечного ветра (`density`).\n",
        "-\tЦвет пузырьков должен отражать плотность солнечного ветра. Заголовок для цветовой шкалы: «Density ($cm^{-3}$)».\n",
        "\n"
      ]
    },
    {
      "cell_type": "code",
      "execution_count": null,
      "metadata": {
        "colab": {
          "base_uri": "https://localhost:8080/",
          "height": 542
        },
        "deletable": false,
        "ejudge": "blue_hw13_cell01",
        "id": "Oqlmost8ZCQ5",
        "outputId": "6102cac4-cf26-4dfa-e0dc-8aec385d1071",
        "pycharm": {
          "is_executing": true,
          "name": "#%%\n"
        }
      },
      "outputs": [],
      "source": [
        "# Напиши свой код здесь\n"
      ]
    },
    {
      "cell_type": "markdown",
      "metadata": {
        "deletable": false,
        "editable": false,
        "id": "5O08RM6Ql8EN",
        "pycharm": {
          "name": "#%% md\n"
        }
      },
      "source": [
        "### Задача 2\n",
        "\n",
        "Визуализируй данные K-индекса — ключевого показателя геомагнитной активности. Для этого используй временные метки и значения индекса.\n",
        "\n",
        "**Примечание.**  K-индекс — это логарифмическая шкала, которую используют для измерения геомагнитных бурь. Он показывает интенсивность изменений магнитного поля Земли в трёхчасовом интервале. Значения K-индекса колеблются от 0 до 9:\n",
        "- **0–2**: спокойная геомагнитная обстановка.\n",
        "- **3–4**: слабые возмущения, возможные минимальные геомагнитные бури.\n",
        "- **5–9**: магнитные бури разной степени интенсивности (от умеренных до экстремальных), которые могут спровоцировать сбой геосистем или  северное сияние.\n",
        "\n",
        "**Входные данные**\n",
        "- `k_index_df`: датафрейм с данными.\n",
        "- `time_tag`: временная метка, указывающая точное время измерения (например, 2024-09-23T10:32:00).\n",
        "-\t`k_index`: числовое значение K-индекса, показывающее уровень геомагнитной активности (например, `3.3`).\n",
        "- Данные представлены с интервалом в одну минуту.\n",
        "\n",
        "**Что нужно сделать**  \n",
        "- Построй гистограмму, отображающую значения K-индекса по временным меткам.\n",
        "- Отрази значение K-индекса на цветовой палитре графика: низкие индексы отметь зелёным цветом, высокие — красным. Используй непрерывную палитру зелёно-жёлто-красного цвета.\n",
        "-\tУкажи заголовок графика и подпиши оси:\n",
        "  -\tЗаголовок: «K Index Histogram (40-Minute Intervals)».\n",
        "  -\tОсь $X$: «Time» (дата и время).\n",
        "  -\tОсь $Y$: «K Index» (значение K-индекса).\n",
        "-\tЗадай размер графика — 800x400 пикселей."
      ]
    },
    {
      "cell_type": "code",
      "execution_count": null,
      "metadata": {
        "colab": {
          "base_uri": "https://localhost:8080/",
          "height": 417
        },
        "deletable": false,
        "ejudge": "blue_hw13_cell02",
        "id": "KzA4wCLvZr1n",
        "outputId": "5649a133-9525-4b0b-c9a0-dbf51ad95ace",
        "pycharm": {
          "is_executing": true,
          "name": "#%%\n"
        }
      },
      "outputs": [],
      "source": [
        "# Напиши свой код здесь\n"
      ]
    },
    {
      "cell_type": "markdown",
      "metadata": {
        "deletable": false,
        "editable": false,
        "id": "5X0twlGLj_yc",
        "pycharm": {
          "name": "#%% md\n"
        }
      },
      "source": [
        "### Задача 3\n",
        "\n",
        "Исследуй характеристики солнечного ветра. Его скорость, плотность, температура и магнитные поля (компоненты $B_x$, $B_y$, $B_z$, и $B_t$) играют ключевую роль в изучении космической погоды и её воздействия на Землю, в том числе на системы навигации.\n",
        "\n",
        "\n",
        "**Входные данные**\n",
        "\n",
        "- `solar_wind`: датафрейм с данными солнечного ветра.\n",
        "-\t`time_tag`: время измерения, представленное в формате временной метки.\n",
        "-\t`speed`: скорость солнечного ветра (км/с).\n",
        "-\t`density`: плотность солнечного ветра (частицы/см³).\n",
        "-\t`temperature`: температура солнечного ветра (K).\n",
        "\n",
        "**Что нужно сделать**\n",
        "\n",
        "Построй график с тремя параметрами солнечного ветра на одной фигуре с раздельными осями:\n",
        "\n",
        "-\tВ первой строке графика отобрази скорость солнечного ветра с красной линией.\n",
        "-\tВо второй строке отобрази плотность солнечного ветра с зелёной линией.\n",
        "-\tВ третьей строке отобрази температуру солнечного ветра с синей линией.\n",
        "\n",
        "**Требования**\n",
        "\n",
        "-\tОсь $X$ должна быть общей для всех трёх графиков.\n",
        "-\tОси $Y$ должны быть разные для каждого графика.\n",
        "-\tЛинии на графиках должны содержать маркеры для каждой точки.\n",
        "-\tЗаголовки для каждого подграфика:\n",
        "  - «Speed» для первой строки.\n",
        "  -\t«Density» для второй строки.\n",
        "  -\t«Temperature» для третьей строки.\n",
        "  -\tОбщий заголовок для фигуры: «Solar Wind Parameters over Time».\n",
        "-\tРазмер фигуры — 800x1000 пикселей.\n",
        "\n",
        "**Примечание.** Может показаться, что в Plotly Express сложно поменять цвет линии графика. В таком случае загляни в лонгрид. Все необходимые инструменты описаны в разделе «Анатомия графика»."
      ]
    },
    {
      "cell_type": "code",
      "execution_count": null,
      "metadata": {
        "colab": {
          "base_uri": "https://localhost:8080/",
          "height": 817
        },
        "deletable": false,
        "ejudge": "blue_hw13_cell03",
        "id": "cehffiXCnTiV",
        "outputId": "81eb7949-a7e5-405d-e3c5-0c6d1da7f498",
        "pycharm": {
          "is_executing": true,
          "name": "#%%\n"
        }
      },
      "outputs": [],
      "source": [
        "# Напииши свой код здесь\n"
      ]
    },
    {
      "cell_type": "markdown",
      "metadata": {
        "deletable": false,
        "editable": false,
        "id": "vm7GL6MHw8i2",
        "pycharm": {
          "name": "#%% md\n"
        }
      },
      "source": [
        "## Задача 4\n",
        "\n",
        "Построй анимированную карту землетрясений. Для этого используй библиотеку `Plotly Express`, функцию `scatter_geo` и анимацию, которая отображает землетрясения на протяжении определённого времени.\n",
        "\n",
        "**Входные данные**\n",
        "- `earthquake`: датафрейм с данными.\n",
        "-\t`longitude`: долгота эпицентра землетрясения.\n",
        "-\t`latitude`: широта эпицентра землетрясения.\n",
        "-\t`mag`: магнитуда землетрясения (чем выше значение, тем сильнее землетрясение).\n",
        "-\t`time`: временная метка землетрясения.\n",
        "\n",
        "**Что нужно сделать**\n",
        "\n",
        "- Создай график, где анимация будет отображать землетрясения по временной шкале.\n",
        "- Используй функцию `scatter_geo`, чтобы отобразить точки землетрясений по их координатам на карте с проекцией `natural earth`.\n",
        "- Зафиксируй цветовую шкалу в диапазоне значений магнитуды от 0 до 10, используя параметр `range_color=[0, 10]`.\n",
        "- Настрой цвет и размер маркеров:\n",
        "   - Максимальный размер маркеров — 20.\n",
        "   - Размер маркеров и их цвет должны соответствовать величине землетрясения. Более сильные землетрясения должны быть большего размера и темнее по цвету.\n"
      ]
    },
    {
      "cell_type": "code",
      "execution_count": null,
      "metadata": {
        "colab": {
          "base_uri": "https://localhost:8080/",
          "height": 542
        },
        "deletable": false,
        "ejudge": "blue_hw13_cell04",
        "id": "s0Z8NZf8p4ZP",
        "outputId": "1b32da24-1cec-4339-a698-0ef57cd5d00a",
        "pycharm": {
          "is_executing": true,
          "name": "#%%\n"
        }
      },
      "outputs": [],
      "source": [
        "# Напииши свой код здесь\n"
      ]
    },
    {
      "cell_type": "markdown",
      "metadata": {
        "deletable": false,
        "editable": false,
        "id": "3p1L0mh0xpHY",
        "pycharm": {
          "name": "#%% md\n"
        }
      },
      "source": [
        "## Задача 5\n",
        "\n",
        "Прогнозирование северного сияния помогает изучать солнечную активность и взаимодействие солнечного ветра с магнитным полем Земли. Это позволяет лучше понять физические процессы, происходящие в атмосфере и в космосе.\n",
        "\n",
        "Построй визуализацию прогноза появления северного сияния с помощью `px.scatter_geo`. График должен отображать интенсивность сияния в зависимости от географических координат.\n",
        "\n",
        "**Входные данные**\n",
        "- `aurora`: датафрейм с данными.\n",
        "- `Observation Time`: время наблюдения (например, `2024-09-24T10:21:00Z`).\n",
        "- `Forecast Time`: время прогнозируемых данных (например, `2024-09-24T11:19:00Z`).\n",
        "- `Data Format`: структура данных, представляющая собой массив [Longitude, Latitude, Aurora], где каждый элемент массива состоит из трёх значений:\n",
        "  -\t`Longitude`: долгота (географическая координата).\n",
        "  -\t`Latitude`: широта (географическая координата).\n",
        "  -\t`Aurora`: числовое значение, указывающее на интенсивность сияния в данном месте.\n",
        "\n",
        "**Что нужно сделать**\n",
        "\n",
        "-\tОтфильтруй данные так, чтобы на график попали только те точки, где индекс сияния Aurora больше 10.\n",
        "-\tПострой график с проекцией `orthographic`.\n",
        "- Установи цветовую палитру от светло-жёлтых значений при слабой интенсивности до тёмно-красных при большой вероятности появления сияния.\n",
        "- Добавь подписи и заголовок к графику. Название графика: «Aurora Data Visualization».\n"
      ]
    },
    {
      "cell_type": "code",
      "execution_count": null,
      "metadata": {
        "colab": {
          "base_uri": "https://localhost:8080/",
          "height": 617
        },
        "deletable": false,
        "ejudge": "blue_hw13_cell05",
        "id": "aWPCTuJsp8hx",
        "outputId": "c0b75aa6-9e04-4730-cf75-125d3dad55fb",
        "pycharm": {
          "is_executing": true,
          "name": "#%%\n"
        }
      },
      "outputs": [],
      "source": [
        "# Напииши свой код здесь\n"
      ]
    }
  ],
  "metadata": {
    "colab": {
      "provenance": []
    },
    "kernelspec": {
      "display_name": "Python 3",
      "name": "python3"
    },
    "language_info": {
      "name": "python"
    }
  },
  "nbformat": 4,
  "nbformat_minor": 0
}